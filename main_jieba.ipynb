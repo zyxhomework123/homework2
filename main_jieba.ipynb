{
 "cells": [
  {
   "metadata": {
    "collapsed": true
   },
   "cell_type": "code",
   "outputs": [],
   "execution_count": null,
   "source": "# 结巴分词实践",
   "id": "initial_id"
  },
  {
   "metadata": {},
   "cell_type": "code",
   "outputs": [],
   "execution_count": null,
   "source": "## 结巴分词的三种模式",
   "id": "ecbad67ff48045a"
  },
  {
   "metadata": {
    "ExecuteTime": {
     "end_time": "2025-03-27T01:03:10.578631Z",
     "start_time": "2025-03-27T01:03:10.559558Z"
    }
   },
   "cell_type": "code",
   "source": [
    "import jieba\n",
    "\n",
    "# 精确模式\n",
    "sentence = \"我来到北京清华大学\"\n",
    "seg_list = jieba.cut(sentence, cut_all=False)\n",
    "print(\"精确模式：\", \"/\".join(seg_list))"
   ],
   "id": "11e76a726e4d26bc",
   "outputs": [
    {
     "name": "stdout",
     "output_type": "stream",
     "text": [
      "精确模式： 我/来到/北京/清华大学\n"
     ]
    }
   ],
   "execution_count": 15
  },
  {
   "metadata": {
    "ExecuteTime": {
     "end_time": "2025-03-27T01:03:11.864085Z",
     "start_time": "2025-03-27T01:03:11.848982Z"
    }
   },
   "cell_type": "code",
   "source": "### 全模式",
   "id": "521317c32836a609",
   "outputs": [],
   "execution_count": 16
  },
  {
   "metadata": {
    "ExecuteTime": {
     "end_time": "2025-03-27T01:03:13.840295Z",
     "start_time": "2025-03-27T01:03:13.835295Z"
    }
   },
   "cell_type": "code",
   "source": [
    "# 全模式\n",
    "seg_list = jieba.cut(sentence, cut_all=True)\n",
    "print(\"全模式：\", \"/\".join(seg_list))"
   ],
   "id": "d6604dc62b1d34a8",
   "outputs": [
    {
     "name": "stdout",
     "output_type": "stream",
     "text": [
      "全模式： 我/来到/北京/清华/清华大学/华大/大学\n"
     ]
    }
   ],
   "execution_count": 17
  },
  {
   "metadata": {},
   "cell_type": "code",
   "outputs": [],
   "execution_count": null,
   "source": "### 搜索引擎模式",
   "id": "ea19049d463ed50f"
  },
  {
   "metadata": {
    "ExecuteTime": {
     "end_time": "2025-03-21T03:55:54.610841Z",
     "start_time": "2025-03-21T03:55:54.597848Z"
    }
   },
   "cell_type": "code",
   "source": [
    "# 搜索引擎模式\n",
    "sentence2 = \"小明硕士毕业于中国科学院计算所，后在日本京都大学深造\"\n",
    "seg_list = jieba.cut_for_search(sentence2)\n",
    "print(\"搜索引擎模式：\", \"/\".join(seg_list))"
   ],
   "id": "417e12fbcb1032b",
   "outputs": [
    {
     "name": "stdout",
     "output_type": "stream",
     "text": [
      "搜索引擎模式： 小明/硕士/毕业/于/中国/科学/学院/科学院/中国科学院/计算/计算所/，/后/在/日本/京都/大学/日本京都大学/深造\n"
     ]
    }
   ],
   "execution_count": 5
  },
  {
   "metadata": {},
   "cell_type": "code",
   "outputs": [],
   "execution_count": null,
   "source": "## 载入词典",
   "id": "a25fc6ff4998e99e"
  },
  {
   "metadata": {
    "ExecuteTime": {
     "end_time": "2025-03-27T01:03:19.229690Z",
     "start_time": "2025-03-27T01:03:19.222691Z"
    }
   },
   "cell_type": "code",
   "source": [
    "# 加载自定义词典\n",
    "jieba.load_userdict(\"userdict.txt\")\n",
    "sentence3 = \"张煜旋即将是自然语言处理方面的高手。\"\n",
    "seg_list = jieba.cut(sentence3, HMM=False)\n",
    "print(\"自定义词典分词：\", \"/\".join(seg_list))"
   ],
   "id": "25b3430138787d8c",
   "outputs": [
    {
     "name": "stdout",
     "output_type": "stream",
     "text": [
      "自定义词典分词： 张煜旋/即将/是/自然语言/处理/方面/的/高手/。\n"
     ]
    }
   ],
   "execution_count": 19
  },
  {
   "metadata": {
    "ExecuteTime": {
     "end_time": "2025-03-27T01:02:40.609957Z",
     "start_time": "2025-03-27T01:02:40.601956Z"
    }
   },
   "cell_type": "code",
   "source": "## 关键词提取",
   "id": "aea528f76e54eabd",
   "outputs": [],
   "execution_count": 10
  },
  {
   "metadata": {
    "ExecuteTime": {
     "end_time": "2025-03-27T01:03:23.206398Z",
     "start_time": "2025-03-27T01:03:23.188390Z"
    }
   },
   "cell_type": "code",
   "source": [
    "from jieba import analyse\n",
    "\n",
    "sentence4 = \"燕山大学是河北省人民政府、教育部、工业和信息化部、国家国防科技工业局四方共建的全国重点大学，河北省重点支持的国家一流大学和世界一流学科建设高校，北京高科大学联盟成员。\"\n",
    "keywords = analyse.textrank(sentence4, topK=5, withWeight=False)\n",
    "print(\"Top-5关键词：\", keywords)"
   ],
   "id": "57070e142f6f944b",
   "outputs": [
    {
     "name": "stdout",
     "output_type": "stream",
     "text": [
      "Top-5关键词： ['重点', '大学', '国家', '河北省', '共建']\n"
     ]
    }
   ],
   "execution_count": 20
  }
 ],
 "metadata": {
  "kernelspec": {
   "display_name": "Python 3",
   "language": "python",
   "name": "python3"
  },
  "language_info": {
   "codemirror_mode": {
    "name": "ipython",
    "version": 2
   },
   "file_extension": ".py",
   "mimetype": "text/x-python",
   "name": "python",
   "nbconvert_exporter": "python",
   "pygments_lexer": "ipython2",
   "version": "2.7.6"
  }
 },
 "nbformat": 4,
 "nbformat_minor": 5
}
